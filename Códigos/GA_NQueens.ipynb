{
 "cells": [
  {
   "cell_type": "code",
   "execution_count": 22,
   "id": "53c86dea-1705-4f1c-9cea-4ab2ed84123c",
   "metadata": {},
   "outputs": [],
   "source": [
    "import numpy as np\n",
    "import random\n",
    "import matplotlib.colors as mcolors\n",
    "import matplotlib.pyplot as plt"
   ]
  },
  {
   "cell_type": "code",
   "execution_count": 23,
   "id": "2e7ad095-c14f-4c1b-b500-ffba15cf73b4",
   "metadata": {},
   "outputs": [],
   "source": [
    "def randomGeneration(NumberOfPopulation,NumberOfQueens): #number of row is number of population\n",
    "    generation_list = [] \n",
    "    for i in range(NumberOfPopulation): \n",
    "        gene = []\n",
    "        for j in range(NumberOfQueens): \n",
    "            gene.append(random.randint(1,NumberOfQueens)) # generate the row number for each individual\n",
    "       # gene.append(0)\n",
    "        generation_list.append(gene)\n",
    "    return generation_list"
   ]
  },
  {
   "cell_type": "code",
   "execution_count": 24,
   "id": "ed8ac14e-b0e5-4032-a5b6-d63afc188e2d",
   "metadata": {},
   "outputs": [],
   "source": [
    "# Fitness of initial population"
   ]
  },
  {
   "cell_type": "code",
   "execution_count": 39,
   "id": "44db67d5-ebee-4431-a31d-8f9623a049fc",
   "metadata": {},
   "outputs": [],
   "source": [
    "def fitness_by_individual(gene, NumberOfQueens):\n",
    "    j = 0  \n",
    "    conflict = 0 \n",
    "    while j < NumberOfQueens: \n",
    "        l = j+1  #neighbor column id between j+1-8\n",
    "        while l < NumberOfQueens: \n",
    "            if gene[j] == gene[l]: # if the row number of the current column is the same as the next one,\n",
    "                conflict+=1                                    #  there are two queens in the same row, therefore there is a conflict\n",
    "                \n",
    "            if abs(j-l)==abs(gene[j]-gene[l]):\n",
    "                conflict+=1                                       # j-l gives the number of columns between jth and lth queen of ith individual\n",
    "                                                                                      # this difference checks diagonals\n",
    "            l+=1                      # move to the next column to compare \n",
    "                                          \n",
    "        j+=1 # move to the next queen\n",
    "        \n",
    "    if conflict == 0:\n",
    "        fitness = 1\n",
    "    else:\n",
    "        fitness = 1/conflict\n",
    "            \n",
    "    return fitness  "
   ]
  },
  {
   "cell_type": "code",
   "execution_count": 40,
   "id": "9f1de8ee-6ec2-479f-b609-3d79da46cb74",
   "metadata": {},
   "outputs": [],
   "source": [
    "def fitness_pop(population,NumberOfQueens):\n",
    "    for i in range(len(population)):\n",
    "        fit = fitness_by_individual(population[i],NumberOfQueens)\n",
    "        population[i].append(fit)\n",
    "    return population"
   ]
  },
  {
   "cell_type": "code",
   "execution_count": 41,
   "id": "2adf42f8-d78a-47bf-bdbd-763517b99a94",
   "metadata": {},
   "outputs": [],
   "source": [
    "# Roulette selection"
   ]
  },
  {
   "cell_type": "code",
   "execution_count": 42,
   "id": "ec191a4f-1ba2-4bad-b255-b77f820365d2",
   "metadata": {},
   "outputs": [],
   "source": [
    "def roulette_selection(S, population):\n",
    "    random_select = random.randint(0,S)   \n",
    "    P = 0\n",
    "    ## Starting from the top of the population, keep adding the finesses to the partial sum P, till P<S.\n",
    "    for i in range(len(population)):\n",
    "        P += population[i][-1]\n",
    "        if P > random_select:\n",
    "            break\n",
    "    return population[i]"
   ]
  },
  {
   "cell_type": "code",
   "execution_count": 43,
   "id": "70f69da3-cc3e-4ae0-b5cf-c7b1c7c8da59",
   "metadata": {},
   "outputs": [],
   "source": [
    "# Multipoint crossover"
   ]
  },
  {
   "cell_type": "code",
   "execution_count": 44,
   "id": "842038c7-4c70-4181-ad3a-2c3fb20b4b0a",
   "metadata": {},
   "outputs": [],
   "source": [
    "def multipoint_cross_over(NumberOfQueens,parent1, parent2):\n",
    "    \n",
    "    cromosome1_n = parent1\n",
    "    cromosome2_n = parent2\n",
    "    \n",
    "    random_cutoff_1 = random.randint(1,NumberOfQueens//2)\n",
    "    random_cutoff_2 = random.randint(random_cutoff_1+1,NumberOfQueens-1)\n",
    "    \n",
    "    first_cuttof_p1 =  cromosome1_n[0:random_cutoff_1]\n",
    "    second_cuttof_p1 =  cromosome1_n[random_cutoff_1:random_cutoff_2]\n",
    "    third_cuttof_p1 =  cromosome1_n[random_cutoff_2:NumberOfQueens]\n",
    "\n",
    "    first_cuttof_p2 =  cromosome2_n[0:random_cutoff_1]\n",
    "    second_cuttof_p2 =  cromosome2_n[random_cutoff_1:random_cutoff_2]\n",
    "    third_cuttof_p2 =  cromosome2_n[random_cutoff_2:NumberOfQueens]\n",
    "\n",
    "    offspring1 = first_cuttof_p1+second_cuttof_p2+third_cuttof_p1\n",
    "    offspring2 = first_cuttof_p2+second_cuttof_p1+third_cuttof_p2\n",
    "\n",
    "\n",
    "    return offspring1, offspring2"
   ]
  },
  {
   "cell_type": "code",
   "execution_count": 45,
   "id": "089ac1a7-7017-4b74-8b50-e43fcfdd5724",
   "metadata": {},
   "outputs": [],
   "source": [
    "# Swap mutation"
   ]
  },
  {
   "cell_type": "code",
   "execution_count": 46,
   "id": "92cf15c1-f7ea-48ad-aa3c-a1bae101bd24",
   "metadata": {},
   "outputs": [],
   "source": [
    "def swap_mutation(NumberOfQueens,cromosome):\n",
    "    \n",
    "    random_idx1 = random.randint(0,NumberOfQueens//2)\n",
    "    random_idx2 = random.randint(random_idx1+1,NumberOfQueens-1)\n",
    "\n",
    "    mutated_cromosome = cromosome[0:random_idx1]+[cromosome[random_idx2]]+cromosome[random_idx1+1:random_idx2]+[cromosome[random_idx1]]+cromosome[random_idx2+1:]\n",
    "\n",
    "    return  mutated_cromosome"
   ]
  },
  {
   "cell_type": "code",
   "execution_count": 47,
   "id": "f91c497c-809d-48fa-8f7b-c076e5cc7bec",
   "metadata": {},
   "outputs": [],
   "source": [
    "# Next generation selection"
   ]
  },
  {
   "cell_type": "code",
   "execution_count": 49,
   "id": "7f9479e0-bc0f-4006-8fe1-a12ca5da4720",
   "metadata": {},
   "outputs": [],
   "source": [
    "def one_iteration(NumberOfQueens, pop_size, pc,pm, population, S): \n",
    "    ## fitness of whole population\n",
    "    # Calculate S = the sum of all fitnesses.\n",
    "   \n",
    "    k = 0\n",
    "    \n",
    "    ### select parents\n",
    "    \n",
    "    while k < pop_size//2:\n",
    "        p1 = roulette_selection(S, population[:pop_size])\n",
    "        p2 = roulette_selection(S, population[:pop_size])\n",
    "        \n",
    "        if p1 == p2:\n",
    "            p1 = roulette_selection(S, population[:pop_size])\n",
    "            \n",
    "        r_pc = random.randint(0,1)  \n",
    "        \n",
    "        if r_pc > pc:\n",
    "            xs_offspring1, xs_offspring2 = multipoint_cross_over(NumberOfQueens, p1[:NumberOfQueens], p2[:NumberOfQueens])\n",
    "        else:\n",
    "            xs_offspring1, xs_offspring2 =  p1[:NumberOfQueens], p2[:NumberOfQueens]\n",
    "            \n",
    "        r_pm = random.randint(0,1)\n",
    "        \n",
    "        if r_pm > pm:\n",
    "             mutated_offspring1 = swap_mutation(NumberOfQueens, xs_offspring1)\n",
    "             mutated_offspring2 = swap_mutation(NumberOfQueens, xs_offspring2)\n",
    "        else:\n",
    "            mutated_offspring1, mutated_offspring2 = xs_offspring1, xs_offspring2\n",
    "            \n",
    "        mutated_offspring1_fit = fitness_by_individual(mutated_offspring1, NumberOfQueens)\n",
    "        mutated_offspring1.append(mutated_offspring1_fit)\n",
    "        mutated_offspring2_fit = fitness_by_individual(mutated_offspring2, NumberOfQueens )\n",
    "        mutated_offspring2.append(mutated_offspring2_fit)\n",
    "        \n",
    "        if (mutated_offspring1 not in population[:pop_size]):\n",
    "            population.append(mutated_offspring1)\n",
    "            \n",
    "        \n",
    "        elif (mutated_offspring2 not in population[:pop_size]):\n",
    "            population.append(mutated_offspring2)\n",
    "  \n",
    "        else:\n",
    "            pass\n",
    "        k += 2\n",
    "        \n",
    "    population.sort(key=lambda x: x[-1], reverse=True)\n",
    "\n",
    "    next_generation_most_fit = population[:pop_size]\n",
    "\n",
    "    return next_generation_most_fit"
   ]
  },
  {
   "cell_type": "code",
   "execution_count": 67,
   "id": "32f3f387-7b0c-4859-8dbd-4c14ab2c65d2",
   "metadata": {},
   "outputs": [],
   "source": [
    "def showRes(best_element):\n",
    "    l = len(best_element)+1\n",
    "    plt.figure(figsize=(6, 6))\n",
    "    plt.scatter([x+1 for x in range(l - 1)], best_element[:l - 1])\n",
    "    for i in range(l):\n",
    "        plt.plot([0.5, l - 0.5], [i + 0.5, i + 0.5], color = \"k\")\n",
    "        plt.plot([i + 0.5, i + 0.5], [0.5, l - 0.5], color = \"k\")"
   ]
  },
  {
   "cell_type": "code",
   "execution_count": 68,
   "id": "74329130-1a7b-46ac-ad96-509768787ab3",
   "metadata": {},
   "outputs": [],
   "source": [
    "def one_step(NumberOfQueens, population_size, max_iterations, pc):\n",
    "    ## create graph from adjacency matrix\n",
    "\n",
    "    # mutation probability based on the size of the population\n",
    "    pm = 1/population_size\n",
    "\n",
    "    ### actual seach\n",
    "    current_generation = randomGeneration(population_size, NumberOfQueens) # initialize pop\n",
    "    current_generation = fitness_pop(current_generation,NumberOfQueens)\n",
    "    S = int(np.sum(current_generation, axis = 0)[-1])\n",
    "    epoch = 1\n",
    "    flag  = False  ## to check for a solution\n",
    "    while epoch < max_iterations:\n",
    "        print(\"-------------------------------------------------------\")\n",
    "        print(\"Epoch \",epoch)\n",
    "        \n",
    "        next_generation = one_iteration(NumberOfQueens,population_size, pc,pm, current_generation,S)\n",
    "        current_generation = next_generation\n",
    "        current_generation = fitness_pop(current_generation,NumberOfQueens)\n",
    "        \n",
    "        best_element = current_generation[0][:NumberOfQueens]\n",
    "        best_element_fitness = current_generation[0][NumberOfQueens]\n",
    "        \n",
    "        if best_element_fitness == 1:\n",
    "            print(\"Solution Found: \", best_element)\n",
    "            showRes(best_element)\n",
    "            break\n",
    "        else:\n",
    "            print(\"Best Solution: \", current_generation[0])\n",
    "        epoch+=1  \n",
    "\n",
    "    return #best_element, flag"
   ]
  },
  {
   "cell_type": "code",
   "execution_count": 69,
   "id": "2d7711df-8c8c-4cbd-9319-079d8f16be62",
   "metadata": {},
   "outputs": [],
   "source": [
    "population_size_ = 1500\n",
    "max_iterations_ = 500\n",
    "pc_ = 0.5\n",
    "NumberOfQueens = 8"
   ]
  },
  {
   "cell_type": "code",
   "execution_count": 70,
   "id": "026fdd14-01ad-4224-8b02-2dfea0f77a47",
   "metadata": {},
   "outputs": [
    {
     "name": "stdout",
     "output_type": "stream",
     "text": [
      "-------------------------------------------------------\n",
      "Epoch  1\n",
      "Solution Found:  [2, 8, 5, 1, 4, 6, 7, 3]\n"
     ]
    },
    {
     "data": {
      "image/png": "[encoded data removed]",
      "text/plain": [
       "<Figure size 600x600 with 1 Axes>"
      ]
     },
     "metadata": {},
     "output_type": "display_data"
    }
   ],
   "source": [
    "one_step(NumberOfQueens, population_size_, max_iterations_, pc_)"
   ]
  },
  {
   "cell_type": "code",
   "execution_count": null,
   "id": "3c6a0394-aff6-4338-8073-5a75c0b001aa",
   "metadata": {},
   "outputs": [],
   "source": []
  },
  {
   "cell_type": "code",
   "execution_count": null,
   "id": "cf834d4b-d6db-4d91-8f98-c106ad6612d4",
   "metadata": {},
   "outputs": [],
   "source": []
  }
 ],
 "metadata": {
  "kernelspec": {
   "display_name": "Python 3 (ipykernel)",
   "language": "python",
   "name": "python3"
  },
  "language_info": {
   "codemirror_mode": {
    "name": "ipython",
    "version": 3
   },
   "file_extension": ".py",
   "mimetype": "text/x-python",
   "name": "python",
   "nbconvert_exporter": "python",
   "pygments_lexer": "ipython3",
   "version": "3.12.7"
  }
 },
 "nbformat": 4,
 "nbformat_minor": 5
}
