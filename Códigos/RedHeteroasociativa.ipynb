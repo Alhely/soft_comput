{
 "cells": [
  {
   "cell_type": "markdown",
   "id": "f73819d0-76ae-46ed-b588-133f156eee1e",
   "metadata": {},
   "source": [
    "https://arxiv.org/pdf/1901.02462"
   ]
  },
  {
   "cell_type": "code",
   "execution_count": 23,
   "id": "945bdac8-d7a1-456c-986e-46671ab4ce3b",
   "metadata": {},
   "outputs": [],
   "source": [
    "inputs_ =  np.array([[-1,-1,-1,-1,-1,-1,-1],\n",
    "             [-1,-1,-1,-1,-1,-1,1],\n",
    "              [-1,-1,-1,-1,-1,1,1],\n",
    "              [-1,-1,-1,-1,1,1,1],\n",
    "            [-1,-1,-1,1,1,1,1],\n",
    "          [-1,-1,1,1,1,1,1],\n",
    "          [-1,1,1,1,1,1,1],\n",
    "          [1,1,1,1,1,1,1]])\n",
    "\n",
    "target =  np.array([[-1,-1,-1,-1,-1,-1,-1],\n",
    "             [-1,-1,-1,-1,-1,-1,-1],\n",
    "              [-1,-1,-1,-1,-1,-1,-1],\n",
    "              [-1,-1,-1,-1,-1,-1,-1],\n",
    "            [1,1,1,1,1,1,1],\n",
    "          [1,1,1,1,1,1,1],\n",
    "         [1,1,1,1,1,1,1],\n",
    "          [1,1,1,1,1,1,1]])"
   ]
  },
  {
   "cell_type": "code",
   "execution_count": 78,
   "id": "57e88417-7306-4535-aea4-efa304941532",
   "metadata": {},
   "outputs": [],
   "source": [
    "import numpy as np\n",
    "\n",
    "def fit(patrones_de_prueba, resultados):\n",
    "    ## se multiplica cada patron de prueba por el resultado esperado, se suman y se obtiene la matriz de pesos\n",
    "    \n",
    "    n_ejemplos = np.shape(patrones_de_prueba)[0]\n",
    "    n_feat = np.shape(patrones_de_prueba)[1]\n",
    "    W = np.zeros((n_feat,n_feat))\n",
    "                 \n",
    "    for i in range(n_ejemplos):\n",
    "        x = patrones_de_prueba[i].reshape(1,n_feat)\n",
    "        d = resultados[i].reshape(1,n_feat)\n",
    "        dT = np.transpose(d)\n",
    "        wi = x*dT\n",
    "        W += wi\n",
    "        \n",
    "    return W       "
   ]
  },
  {
   "cell_type": "code",
   "execution_count": 79,
   "id": "6262f1ec-0ad8-4215-a5a9-e4f468b01a01",
   "metadata": {},
   "outputs": [
    {
     "data": {
      "text/plain": [
       "array([[2., 4., 6., 8., 6., 4., 2.],\n",
       "       [2., 4., 6., 8., 6., 4., 2.],\n",
       "       [2., 4., 6., 8., 6., 4., 2.],\n",
       "       [2., 4., 6., 8., 6., 4., 2.],\n",
       "       [2., 4., 6., 8., 6., 4., 2.],\n",
       "       [2., 4., 6., 8., 6., 4., 2.],\n",
       "       [2., 4., 6., 8., 6., 4., 2.]])"
      ]
     },
     "execution_count": 79,
     "metadata": {},
     "output_type": "execute_result"
    }
   ],
   "source": [
    "w_tst = fit(inputs_, target)\n",
    "w_tst"
   ]
  },
  {
   "cell_type": "code",
   "execution_count": 96,
   "id": "25a3ce09-ab1d-421c-8959-f9e2772f2708",
   "metadata": {},
   "outputs": [],
   "source": [
    "def test_one_pattern(input_, w):\n",
    "    result = np.matmul((input_.reshape(1,7)) ,w )\n",
    "    result_activ = [np.where(x>0,1,-1) for x in result]\n",
    "\n",
    "    return result_activ"
   ]
  },
  {
   "cell_type": "code",
   "execution_count": 97,
   "id": "38b57070-4242-46d8-a9cf-4c5705ad00f9",
   "metadata": {},
   "outputs": [
    {
     "data": {
      "text/plain": [
       "array([[-14., -28., -42., -56., -42., -28., -14.]])"
      ]
     },
     "execution_count": 97,
     "metadata": {},
     "output_type": "execute_result"
    }
   ],
   "source": [
    "np.matmul((inputs_[0].reshape(1,7)) ,w_tst )"
   ]
  },
  {
   "cell_type": "code",
   "execution_count": 98,
   "id": "78feda18-09bf-4e70-a2e9-17a8e491d3fc",
   "metadata": {},
   "outputs": [
    {
     "data": {
      "text/plain": [
       "[array([1, 1, 1, 1, 1, 1, 1])]"
      ]
     },
     "execution_count": 98,
     "metadata": {},
     "output_type": "execute_result"
    }
   ],
   "source": [
    "test_one_pattern(inputs_[7], w_tst)"
   ]
  },
  {
   "cell_type": "code",
   "execution_count": 99,
   "id": "2fab0d49-bef6-412f-8d19-ba11f65a6d9c",
   "metadata": {},
   "outputs": [
    {
     "name": "stdout",
     "output_type": "stream",
     "text": [
      "patrón 0 [array([-1, -1, -1, -1, -1, -1, -1])]\n",
      "patrón 1 [array([-1, -1, -1, -1, -1, -1, -1])]\n",
      "patrón 2 [array([-1, -1, -1, -1, -1, -1, -1])]\n",
      "patrón 3 [array([-1, -1, -1, -1, -1, -1, -1])]\n",
      "patrón 4 [array([1, 1, 1, 1, 1, 1, 1])]\n",
      "patrón 5 [array([1, 1, 1, 1, 1, 1, 1])]\n",
      "patrón 6 [array([1, 1, 1, 1, 1, 1, 1])]\n",
      "patrón 7 [array([1, 1, 1, 1, 1, 1, 1])]\n"
     ]
    }
   ],
   "source": [
    "for i in range(8):\n",
    "    print(\"patrón \" +str(i),test_one_pattern(inputs_[i], w_tst))"
   ]
  },
  {
   "cell_type": "code",
   "execution_count": null,
   "id": "2f44db9e-f36f-4623-a24c-d41d923fe356",
   "metadata": {},
   "outputs": [],
   "source": []
  },
  {
   "cell_type": "code",
   "execution_count": null,
   "id": "cc306b96-ccb2-493d-a194-b38c452eb89a",
   "metadata": {},
   "outputs": [],
   "source": []
  }
 ],
 "metadata": {
  "kernelspec": {
   "display_name": "Python 3 (ipykernel)",
   "language": "python",
   "name": "python3"
  },
  "language_info": {
   "codemirror_mode": {
    "name": "ipython",
    "version": 3
   },
   "file_extension": ".py",
   "mimetype": "text/x-python",
   "name": "python",
   "nbconvert_exporter": "python",
   "pygments_lexer": "ipython3",
   "version": "3.10.12"
  }
 },
 "nbformat": 4,
 "nbformat_minor": 5
}
