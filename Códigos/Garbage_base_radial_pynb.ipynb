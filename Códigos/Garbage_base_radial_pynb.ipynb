{
  "metadata": {
    "kernelspec": {
      "language": "python",
      "display_name": "Python 3",
      "name": "python3"
    },
    "language_info": {
      "name": "python",
      "version": "3.10.14",
      "mimetype": "text/x-python",
      "codemirror_mode": {
        "name": "ipython",
        "version": 3
      },
      "pygments_lexer": "ipython3",
      "nbconvert_exporter": "python",
      "file_extension": ".py"
    },
    "kaggle": {
      "accelerator": "none",
      "dataSources": [
        {
          "sourceId": 1874598,
          "sourceType": "datasetVersion",
          "datasetId": 1115942
        },
        {
          "sourceId": 9626156,
          "sourceType": "datasetVersion",
          "datasetId": 5875991
        }
      ],
      "dockerImageVersionId": 30786,
      "isInternetEnabled": false,
      "language": "python",
      "sourceType": "notebook",
      "isGpuEnabled": false
    },
    "colab": {
      "name": "Garbage base radial.pynb",
      "provenance": []
    }
  },
  "nbformat_minor": 0,
  "nbformat": 4,
  "cells": [
    {
      "source": [
        "# IMPORTANT: SOME KAGGLE DATA SOURCES ARE PRIVATE\n",
        "# RUN THIS CELL IN ORDER TO IMPORT YOUR KAGGLE DATA SOURCES.\n",
        "import kagglehub\n",
        "kagglehub.login()\n"
      ],
      "metadata": {
        "id": "Wc5wi2DfZ7nk"
      },
      "cell_type": "code",
      "outputs": [],
      "execution_count": null
    },
    {
      "source": [
        "# IMPORTANT: RUN THIS CELL IN ORDER TO IMPORT YOUR KAGGLE DATA SOURCES,\n",
        "# THEN FEEL FREE TO DELETE THIS CELL.\n",
        "# NOTE: THIS NOTEBOOK ENVIRONMENT DIFFERS FROM KAGGLE'S PYTHON\n",
        "# ENVIRONMENT SO THERE MAY BE MISSING LIBRARIES USED BY YOUR\n",
        "# NOTEBOOK.\n",
        "\n",
        "mostafaabla_garbage_classification_path = kagglehub.dataset_download('mostafaabla/garbage-classification')\n",
        "alhelygonzalezluna_data_txt_path = kagglehub.dataset_download('alhelygonzalezluna/data-txt')\n",
        "\n",
        "print('Data source import complete.')\n"
      ],
      "metadata": {
        "id": "zDQuLRT1Z7nq"
      },
      "cell_type": "code",
      "outputs": [],
      "execution_count": null
    },
    {
      "cell_type": "code",
      "source": [
        "# This Python 3 environment comes with many helpful analytics libraries installed\n",
        "# It is defined by the kaggle/python Docker image: https://github.com/kaggle/docker-python\n",
        "# For example, here's several helpful packages to load\n",
        "\n",
        "import numpy as np # linear algebra\n",
        "import pandas as pd # data processing, CSV file I/O (e.g. pd.read_csv)\n",
        "\n",
        "# Input data files are available in the read-only \"../input/\" directory\n",
        "# For example, running this (by clicking run or pressing Shift+Enter) will list all files under the input directory\n",
        "\n",
        "import os\n",
        "#for dirname, _, filenames in os.walk('/kaggle/input'):\n",
        "#    for filename in filenames:\n",
        "       # print(os.path.join(dirname, filename))\n",
        "\n",
        "# You can write up to 20GB to the current directory (/kaggle/working/) that gets preserved as output when you create a version using \"Save & Run All\"\n",
        "# You can also write temporary files to /kaggle/temp/, but they won't be saved outside of the current session"
      ],
      "metadata": {
        "_uuid": "8f2839f25d086af736a60e9eeb907d3b93b6e0e5",
        "_cell_guid": "b1076dfc-b9ad-4769-8c92-a6c4dae69d19",
        "execution": {
          "iopub.status.busy": "2024-10-15T04:16:42.70749Z",
          "iopub.execute_input": "2024-10-15T04:16:42.708033Z",
          "iopub.status.idle": "2024-10-15T04:16:42.714972Z",
          "shell.execute_reply.started": "2024-10-15T04:16:42.707987Z",
          "shell.execute_reply": "2024-10-15T04:16:42.713681Z"
        },
        "trusted": true,
        "id": "smVGAnQUZ7nr"
      },
      "execution_count": null,
      "outputs": []
    },
    {
      "cell_type": "code",
      "source": [
        "import numpy as np\n",
        "import pandas as pd\n",
        "import random\n",
        "import os\n",
        "import matplotlib.pyplot as plt\n",
        "import seaborn as sns\n",
        "import zipfile\n",
        "import sys\n",
        "import time\n",
        "import tensorflow.keras as keras\n",
        "import tensorflow as tf\n",
        "import re\n",
        "\n",
        "from PIL import Image\n",
        "from keras.layers import Input, Conv2D, Dense, Flatten, MaxPooling2D, Input, GlobalAveragePooling2D\n",
        "from keras.layers import Normalization\n",
        "from keras.models import Model, Sequential\n",
        "from keras.preprocessing import image\n",
        "from keras.utils import to_categorical\n",
        "from keras.layers import Lambda\n",
        "from keras.callbacks import EarlyStopping\n",
        "from sklearn.model_selection import train_test_split\n",
        "from sklearn.metrics import classification_report\n"
      ],
      "metadata": {
        "execution": {
          "iopub.status.busy": "2024-10-15T04:16:42.869414Z",
          "iopub.execute_input": "2024-10-15T04:16:42.869932Z",
          "iopub.status.idle": "2024-10-15T04:16:42.88056Z",
          "shell.execute_reply.started": "2024-10-15T04:16:42.869869Z",
          "shell.execute_reply": "2024-10-15T04:16:42.879118Z"
        },
        "trusted": true,
        "id": "zaxMZcdhZ7ns"
      },
      "execution_count": null,
      "outputs": []
    },
    {
      "cell_type": "code",
      "source": [
        "# Increasing the image size didn't result in increasing the training accuracy\n",
        "IMAGE_WIDTH = 180\n",
        "IMAGE_HEIGHT = 180\n",
        "IMAGE_SIZE=(IMAGE_WIDTH, IMAGE_HEIGHT)\n",
        "IMAGE_CHANNELS = 3\n",
        "\n",
        "\n",
        "# Path where our data is located\n",
        "base_path = \"../input/garbage-classification/garbage_classification/\"\n",
        "\n",
        "# Dictionary to save our 12 classes\n",
        "categories = {0: 'paper', 1: 'cardboard', 2: 'plastic', 3: 'metal', 4: 'trash', 5: 'battery',\n",
        "              6: 'shoes', 7: 'clothes', 8: 'green-glass', 9: 'brown-glass', 10: 'white-glass',\n",
        "              11: 'biological'}\n",
        "\n",
        "print('defining constants successful!')\n"
      ],
      "metadata": {
        "execution": {
          "iopub.status.busy": "2024-10-15T04:16:43.105343Z",
          "iopub.execute_input": "2024-10-15T04:16:43.105859Z",
          "iopub.status.idle": "2024-10-15T04:16:43.114921Z",
          "shell.execute_reply.started": "2024-10-15T04:16:43.10581Z",
          "shell.execute_reply": "2024-10-15T04:16:43.113367Z"
        },
        "trusted": true,
        "id": "T23xWP35Z7nt"
      },
      "execution_count": null,
      "outputs": []
    },
    {
      "cell_type": "code",
      "source": [
        "# Add class name prefix to filename. So for example \"/paper104.jpg\" become \"paper/paper104.jpg\"\n",
        "def add_class_name_prefix(df, col_name):\n",
        "    df[col_name] = df[col_name].apply(lambda x: x[:re.search(\"\\d\",x).start()] + '/' + x)\n",
        "    return df\n",
        "\n",
        "# list conatining all the filenames in the dataset\n",
        "filenames_list = []\n",
        "# list to store the corresponding category, note that each folder of the dataset has one class of data\n",
        "categories_list = []\n",
        "\n",
        "for category in categories:\n",
        "    filenames = os.listdir(base_path + categories[category])\n",
        "\n",
        "    filenames_list = filenames_list  +filenames\n",
        "    categories_list = categories_list + [category] * len(filenames)\n",
        "\n",
        "df = pd.DataFrame({\n",
        "    'filename': filenames_list,\n",
        "    'category': categories_list\n",
        "})\n",
        "\n",
        "df = add_class_name_prefix(df, 'filename')\n",
        "\n",
        "# Shuffle the dataframe\n",
        "df = df.sample(frac=1).reset_index(drop=True)\n",
        "\n",
        "print('number of elements = ' , len(df))"
      ],
      "metadata": {
        "execution": {
          "iopub.status.busy": "2024-10-15T04:16:43.873549Z",
          "iopub.execute_input": "2024-10-15T04:16:43.87406Z",
          "iopub.status.idle": "2024-10-15T04:16:43.961323Z",
          "shell.execute_reply.started": "2024-10-15T04:16:43.874011Z",
          "shell.execute_reply": "2024-10-15T04:16:43.959977Z"
        },
        "trusted": true,
        "id": "YW-Sf4CfZ7nt"
      },
      "execution_count": null,
      "outputs": []
    },
    {
      "cell_type": "code",
      "source": [
        "df.head()"
      ],
      "metadata": {
        "execution": {
          "iopub.status.busy": "2024-10-15T04:16:44.725406Z",
          "iopub.execute_input": "2024-10-15T04:16:44.72587Z",
          "iopub.status.idle": "2024-10-15T04:16:44.738467Z",
          "shell.execute_reply.started": "2024-10-15T04:16:44.725825Z",
          "shell.execute_reply": "2024-10-15T04:16:44.737166Z"
        },
        "trusted": true,
        "id": "BXg5S0zuZ7nu"
      },
      "execution_count": null,
      "outputs": []
    },
    {
      "cell_type": "code",
      "source": [
        "# see sample image, you can run the same cell again to get a different image\n",
        "random_row = random.randint(0, len(df)-1)\n",
        "sample = df.iloc[random_row]\n",
        "randomimage = image.load_img(base_path +sample['filename'])\n",
        "print(sample['filename'])\n",
        "plt.imshow(randomimage)"
      ],
      "metadata": {
        "execution": {
          "iopub.status.busy": "2024-10-15T04:16:47.214966Z",
          "iopub.execute_input": "2024-10-15T04:16:47.216375Z",
          "iopub.status.idle": "2024-10-15T04:16:47.600887Z",
          "shell.execute_reply.started": "2024-10-15T04:16:47.216302Z",
          "shell.execute_reply": "2024-10-15T04:16:47.599498Z"
        },
        "trusted": true,
        "id": "yptqNhdOZ7nu"
      },
      "execution_count": null,
      "outputs": []
    },
    {
      "cell_type": "code",
      "source": [
        "df_visualization = df.copy()\n",
        "# Change the catgegories from numbers to names\n",
        "df_visualization['category'] = df_visualization['category'].apply(lambda x:categories[x] )\n",
        "\n",
        "df_visualization['category'].value_counts().plot.bar(x = 'count', y = 'category' )\n",
        "\n",
        "plt.xlabel(\"Garbage Classes\", labelpad=14)\n",
        "plt.ylabel(\"Images Count\", labelpad=14)\n",
        "plt.title(\"Count of images per class\", y=1.02);"
      ],
      "metadata": {
        "execution": {
          "iopub.status.busy": "2024-10-15T04:16:49.858477Z",
          "iopub.execute_input": "2024-10-15T04:16:49.858964Z",
          "iopub.status.idle": "2024-10-15T04:16:50.245991Z",
          "shell.execute_reply.started": "2024-10-15T04:16:49.858918Z",
          "shell.execute_reply": "2024-10-15T04:16:50.244634Z"
        },
        "trusted": true,
        "id": "mP0NBYYmZ7nv"
      },
      "execution_count": null,
      "outputs": []
    },
    {
      "cell_type": "code",
      "source": [
        "## Resample to have balanced data set"
      ],
      "metadata": {
        "execution": {
          "iopub.status.busy": "2024-10-15T04:17:10.009603Z",
          "iopub.execute_input": "2024-10-15T04:17:10.010082Z",
          "iopub.status.idle": "2024-10-15T04:17:10.015969Z",
          "shell.execute_reply.started": "2024-10-15T04:17:10.010031Z",
          "shell.execute_reply": "2024-10-15T04:17:10.014411Z"
        },
        "trusted": true,
        "id": "WzrUkG_CZ7nv"
      },
      "execution_count": null,
      "outputs": []
    },
    {
      "cell_type": "code",
      "source": [
        "df['category'].value_counts()"
      ],
      "metadata": {
        "execution": {
          "iopub.status.busy": "2024-10-15T04:21:44.88172Z",
          "iopub.execute_input": "2024-10-15T04:21:44.882257Z",
          "iopub.status.idle": "2024-10-15T04:21:44.895608Z",
          "shell.execute_reply.started": "2024-10-15T04:21:44.882211Z",
          "shell.execute_reply": "2024-10-15T04:21:44.894364Z"
        },
        "trusted": true,
        "id": "1llCvjMoZ7nw"
      },
      "execution_count": null,
      "outputs": []
    },
    {
      "cell_type": "code",
      "source": [
        "### sampling to min"
      ],
      "metadata": {
        "id": "ya86QSifZ7nw"
      },
      "execution_count": null,
      "outputs": []
    },
    {
      "cell_type": "code",
      "source": [
        "#Create the model¶"
      ],
      "metadata": {
        "execution": {
          "iopub.status.busy": "2024-10-14T23:46:29.260809Z",
          "iopub.execute_input": "2024-10-14T23:46:29.26129Z",
          "iopub.status.idle": "2024-10-14T23:46:29.267335Z",
          "shell.execute_reply.started": "2024-10-14T23:46:29.261235Z",
          "shell.execute_reply": "2024-10-14T23:46:29.265769Z"
        },
        "trusted": true,
        "id": "_R0FOhYZZ7nx"
      },
      "execution_count": null,
      "outputs": []
    },
    {
      "cell_type": "code",
      "source": [
        "import numpy as np\n",
        "from keras.models import Sequential\n",
        "from keras.layers import Dense\n",
        "from keras.optimizers import RMSprop\n",
        "import matplotlib.pyplot as plt\n",
        "from keras.layers import Dense, Flatten\n",
        "from keras.models import Sequential\n",
        "from keras.losses import binary_crossentropy\n",
        "from keras.initializers import Initializer\n",
        "from sklearn.cluster import KMeans\n",
        "import keras.ops  as K#import expand_dims, transpose, exp, power, sum"
      ],
      "metadata": {
        "execution": {
          "iopub.status.busy": "2024-10-14T23:46:29.268987Z",
          "iopub.execute_input": "2024-10-14T23:46:29.269424Z",
          "iopub.status.idle": "2024-10-14T23:46:29.570216Z",
          "shell.execute_reply.started": "2024-10-14T23:46:29.269382Z",
          "shell.execute_reply": "2024-10-14T23:46:29.568925Z"
        },
        "trusted": true,
        "id": "8PtnRrmhZ7nx"
      },
      "execution_count": null,
      "outputs": []
    },
    {
      "cell_type": "code",
      "source": [
        "class InitCentersKMeans(Initializer):\n",
        "    \"\"\" Initializer for initialization of centers of RBF network\n",
        "        by clustering the given data set.\n",
        "    # Arguments\n",
        "        X: matrix, dataset\n",
        "    \"\"\"\n",
        "\n",
        "    def __init__(self, X, max_iter=100):\n",
        "        self.X = X\n",
        "        self.max_iter = max_iter\n",
        "\n",
        "    def __call__(self, shape, dtype=None):\n",
        "        assert shape[1] == self.X.shape[1]\n",
        "\n",
        "        n_centers = shape[0]\n",
        "        km = KMeans(n_clusters=n_centers, max_iter=self.max_iter, verbose=0)\n",
        "        km.fit(self.X)\n",
        "        return km.cluster_centers_"
      ],
      "metadata": {
        "execution": {
          "iopub.status.busy": "2024-10-14T23:46:29.571879Z",
          "iopub.execute_input": "2024-10-14T23:46:29.572425Z",
          "iopub.status.idle": "2024-10-14T23:46:29.581613Z",
          "shell.execute_reply.started": "2024-10-14T23:46:29.572354Z",
          "shell.execute_reply": "2024-10-14T23:46:29.58025Z"
        },
        "trusted": true,
        "id": "m_zqGvbHZ7nx"
      },
      "execution_count": null,
      "outputs": []
    },
    {
      "cell_type": "code",
      "source": [
        "from keras.layers import Layer\n",
        "\n",
        "class RBFLayer(Layer):\n",
        "    def __init__(self, units, gamma, **kwargs):\n",
        "        super(RBFLayer, self).__init__(**kwargs)\n",
        "        self.units = units\n",
        "        self.gamma = K.cast(gamma, dtype=\"float32\")\n",
        "\n",
        "    def build(self, input_shape):\n",
        "#         print(input_shape)\n",
        "#         print(self.units)\n",
        "        self.mu = self.add_weight(name='mu',\n",
        "                                  shape=(int(input_shape[1]), self.units),\n",
        "                                  initializer= InitCentersKMeans,\n",
        "                                  trainable=True)\n",
        "        super(RBFLayer, self).build(input_shape)\n",
        "\n",
        "    def call(self, inputs):\n",
        "        diff = K.expand_dims(inputs, axis = -1)  - self.mu\n",
        "        l2 = K.sum(K.power(diff, 2), axis=1)\n",
        "        res = K.exp(-1 * self.gamma * l2)\n",
        "        return res\n",
        "\n",
        "    def compute_output_shape(self, input_shape):\n",
        "        return (input_shape[0], self.units)"
      ],
      "metadata": {
        "execution": {
          "iopub.status.busy": "2024-10-15T04:12:38.752443Z",
          "iopub.execute_input": "2024-10-15T04:12:38.752917Z",
          "iopub.status.idle": "2024-10-15T04:12:59.041457Z",
          "shell.execute_reply.started": "2024-10-15T04:12:38.75285Z",
          "shell.execute_reply": "2024-10-15T04:12:59.040016Z"
        },
        "trusted": true,
        "id": "BduK5zVXZ7nx"
      },
      "execution_count": null,
      "outputs": []
    },
    {
      "cell_type": "code",
      "source": [
        "model = Sequential()\n",
        "model.add(Flatten(input_shape=(IMAGE_WIDTH, IMAGE_HEIGHT, IMAGE_CHANNELS)))\n",
        "model.add(RBFLayer(12, 0.5))\n",
        "model.add(Dense(len(categories), activation='sigmoid', name='foo'))\n",
        "\n",
        "model.compile(optimizer='rmsprop', loss=binary_crossentropy, metrics = ['accuracy'])\n",
        "model.summary()"
      ],
      "metadata": {
        "execution": {
          "iopub.status.busy": "2024-10-15T04:12:59.043663Z",
          "iopub.execute_input": "2024-10-15T04:12:59.044387Z",
          "iopub.status.idle": "2024-10-15T04:12:59.864931Z",
          "shell.execute_reply.started": "2024-10-15T04:12:59.044329Z",
          "shell.execute_reply": "2024-10-15T04:12:59.862932Z"
        },
        "trusted": true,
        "id": "uP_qGr0vZ7ny"
      },
      "execution_count": null,
      "outputs": []
    },
    {
      "cell_type": "code",
      "source": [
        "early_stop = EarlyStopping(patience = 2, verbose = 1, monitor='val_categorical_accuracy' , mode='max', min_delta=0.001, restore_best_weights = True)\n",
        "\n",
        "callbacks = [early_stop]\n",
        "\n",
        "print('call back defined!')"
      ],
      "metadata": {
        "execution": {
          "iopub.status.busy": "2024-10-15T04:12:59.866131Z",
          "iopub.status.idle": "2024-10-15T04:12:59.866682Z",
          "shell.execute_reply.started": "2024-10-15T04:12:59.86643Z",
          "shell.execute_reply": "2024-10-15T04:12:59.866457Z"
        },
        "trusted": true,
        "id": "wJ8eUNfGZ7ny"
      },
      "execution_count": null,
      "outputs": []
    },
    {
      "cell_type": "code",
      "source": [
        "##DATA"
      ],
      "metadata": {
        "execution": {
          "iopub.status.busy": "2024-10-14T23:57:08.404449Z",
          "iopub.execute_input": "2024-10-14T23:57:08.404899Z",
          "iopub.status.idle": "2024-10-14T23:57:08.410144Z",
          "shell.execute_reply.started": "2024-10-14T23:57:08.404857Z",
          "shell.execute_reply": "2024-10-14T23:57:08.408753Z"
        },
        "trusted": true,
        "id": "QGIg3ZqIZ7ny"
      },
      "execution_count": null,
      "outputs": []
    },
    {
      "cell_type": "code",
      "source": [
        "#Change the categories from numbers to names\n",
        "df[\"category\"] = df[\"category\"].replace(categories)\n",
        "\n",
        "# We first split the data into two sets and then split the validate_df to two sets\n",
        "train_df, validate_df = train_test_split(df, test_size=0.2, random_state=42)\n",
        "validate_df, test_df = train_test_split(validate_df, test_size=0.5, random_state=42)\n",
        "\n",
        "train_df = train_df.reset_index(drop=True)\n",
        "validate_df = validate_df.reset_index(drop=True)\n",
        "test_df = test_df.reset_index(drop=True)\n",
        "\n",
        "total_train = train_df.shape[0]\n",
        "total_validate = validate_df.shape[0]\n",
        "\n",
        "print('train size = ', total_validate , 'validate size = ', total_validate, 'test size = ', test_df.shape[0])"
      ],
      "metadata": {
        "execution": {
          "iopub.status.busy": "2024-10-14T23:57:08.767623Z",
          "iopub.execute_input": "2024-10-14T23:57:08.768067Z",
          "iopub.status.idle": "2024-10-14T23:57:08.802475Z",
          "shell.execute_reply.started": "2024-10-14T23:57:08.768024Z",
          "shell.execute_reply": "2024-10-14T23:57:08.801212Z"
        },
        "trusted": true,
        "id": "6YQhWZu6Z7ny"
      },
      "execution_count": null,
      "outputs": []
    },
    {
      "cell_type": "code",
      "source": [
        "import tensorflow as tf\n",
        "batch_size=64\n",
        "\n",
        "train_datagen = tf.keras.preprocessing.image.ImageDataGenerator()\n",
        "\n",
        "\n",
        "train_generator = train_datagen.flow_from_dataframe(\n",
        "    train_df,\n",
        "    base_path,\n",
        "    x_col='filename',\n",
        "    y_col='category',\n",
        "    target_size=IMAGE_SIZE,\n",
        "    class_mode='categorical',\n",
        "    batch_size=batch_size\n",
        ")"
      ],
      "metadata": {
        "execution": {
          "iopub.status.busy": "2024-10-14T23:57:09.077863Z",
          "iopub.execute_input": "2024-10-14T23:57:09.078371Z",
          "iopub.status.idle": "2024-10-14T23:57:15.712485Z",
          "shell.execute_reply.started": "2024-10-14T23:57:09.078323Z",
          "shell.execute_reply": "2024-10-14T23:57:15.711249Z"
        },
        "trusted": true,
        "id": "OSDpRcUKZ7ny"
      },
      "execution_count": null,
      "outputs": []
    },
    {
      "cell_type": "code",
      "source": [
        "validation_datagen =  tf.keras.preprocessing.image.ImageDataGenerator()\n",
        "\n",
        "\n",
        "validation_generator = validation_datagen.flow_from_dataframe(\n",
        "    validate_df,\n",
        "    base_path,\n",
        "    x_col='filename',\n",
        "    y_col='category',\n",
        "    target_size=IMAGE_SIZE,\n",
        "    class_mode='categorical',\n",
        "    batch_size=batch_size\n",
        ")"
      ],
      "metadata": {
        "execution": {
          "iopub.status.busy": "2024-10-14T23:57:15.714551Z",
          "iopub.execute_input": "2024-10-14T23:57:15.714943Z",
          "iopub.status.idle": "2024-10-14T23:57:16.484833Z",
          "shell.execute_reply.started": "2024-10-14T23:57:15.714901Z",
          "shell.execute_reply": "2024-10-14T23:57:16.483681Z"
        },
        "trusted": true,
        "id": "BSOVHpY_Z7nz"
      },
      "execution_count": null,
      "outputs": []
    },
    {
      "cell_type": "code",
      "source": [
        "EPOCHS = 2\n",
        "history = model.fit(\n",
        "    train_generator,\n",
        "    epochs=EPOCHS,\n",
        "    validation_data=validation_generator,\n",
        "    validation_steps=total_validate//batch_size,\n",
        "    steps_per_epoch=total_train//batch_size,\n",
        "    callbacks=callbacks\n",
        ")"
      ],
      "metadata": {
        "execution": {
          "iopub.status.busy": "2024-10-14T23:57:16.486233Z",
          "iopub.execute_input": "2024-10-14T23:57:16.486636Z",
          "iopub.status.idle": "2024-10-15T00:00:58.317379Z",
          "shell.execute_reply.started": "2024-10-14T23:57:16.486594Z",
          "shell.execute_reply": "2024-10-15T00:00:58.316219Z"
        },
        "trusted": true,
        "id": "7_j7kcMVZ7nz"
      },
      "execution_count": null,
      "outputs": []
    },
    {
      "cell_type": "code",
      "source": [
        "test_datagen = tf.keras.preprocessing.image.ImageDataGenerator()\n",
        "\n",
        "test_generator = test_datagen.flow_from_dataframe(\n",
        "    dataframe= test_df,\n",
        "    directory=base_path,\n",
        "    x_col='filename',\n",
        "    y_col='category',\n",
        "    target_size=IMAGE_SIZE,\n",
        "    color_mode=\"rgb\",\n",
        "    class_mode=\"categorical\",\n",
        "    batch_size=1,\n",
        "    shuffle=False\n",
        ")"
      ],
      "metadata": {
        "execution": {
          "iopub.status.busy": "2024-10-14T22:38:49.425553Z",
          "iopub.execute_input": "2024-10-14T22:38:49.425976Z",
          "iopub.status.idle": "2024-10-14T22:38:49.463954Z",
          "shell.execute_reply.started": "2024-10-14T22:38:49.425932Z",
          "shell.execute_reply": "2024-10-14T22:38:49.462654Z"
        },
        "trusted": true,
        "id": "gXcUhVIKZ7nz"
      },
      "execution_count": null,
      "outputs": []
    },
    {
      "cell_type": "code",
      "source": [
        "filenames = test_generator.filenames\n",
        "nb_samples = len(filenames)\n",
        "\n",
        "accuracy = model.evaluate(test_generator)"
      ],
      "metadata": {
        "execution": {
          "iopub.status.busy": "2024-10-14T22:41:30.033908Z",
          "iopub.execute_input": "2024-10-14T22:41:30.035468Z",
          "iopub.status.idle": "2024-10-14T22:41:39.840032Z",
          "shell.execute_reply.started": "2024-10-14T22:41:30.035412Z",
          "shell.execute_reply": "2024-10-14T22:41:39.838763Z"
        },
        "trusted": true,
        "id": "UKtHb75OZ7nz"
      },
      "execution_count": null,
      "outputs": []
    },
    {
      "cell_type": "code",
      "source": [
        "accuracy"
      ],
      "metadata": {
        "execution": {
          "iopub.status.busy": "2024-10-14T22:41:39.842241Z",
          "iopub.execute_input": "2024-10-14T22:41:39.842653Z",
          "iopub.status.idle": "2024-10-14T22:41:39.849781Z",
          "shell.execute_reply.started": "2024-10-14T22:41:39.84261Z",
          "shell.execute_reply": "2024-10-14T22:41:39.848544Z"
        },
        "trusted": true,
        "id": "wzC5J5raZ7nz"
      },
      "execution_count": null,
      "outputs": []
    },
    {
      "cell_type": "code",
      "source": [
        "# We defined at the beginning of this notebook a dictionary that maps the categories number to names, but the train generator\n",
        "# generated it's own dictionary and it has assigned different numbers to our categories and the predictions made by the model\n",
        "# will be made using the genrator's dictionary.\n",
        "\n",
        "gen_label_map = test_generator.class_indices\n",
        "gen_label_map = dict((v,k) for k,v in gen_label_map.items())\n",
        "print(gen_label_map)"
      ],
      "metadata": {
        "execution": {
          "iopub.status.busy": "2024-10-14T22:41:47.273796Z",
          "iopub.execute_input": "2024-10-14T22:41:47.274926Z",
          "iopub.status.idle": "2024-10-14T22:41:47.282248Z",
          "shell.execute_reply.started": "2024-10-14T22:41:47.274856Z",
          "shell.execute_reply": "2024-10-14T22:41:47.2806Z"
        },
        "trusted": true,
        "id": "pMPFHVriZ7nz"
      },
      "execution_count": null,
      "outputs": []
    },
    {
      "cell_type": "code",
      "source": [
        "# get the model's predictions for the test set\n",
        "preds = model.predict(test_generator)\n",
        "\n",
        "# Get the category with the highest predicted probability, the prediction is only the category's number and not name\n",
        "preds = preds.argmax(1)\n",
        "\n",
        "# Convert the predicted category's number to name\n",
        "preds = [gen_label_map[item] for item in preds]\n",
        "\n",
        "# Convert the pandas dataframe to a numpy matrix\n",
        "labels = test_df['category'].to_numpy()\n",
        "\n",
        "print(classification_report(labels, preds))"
      ],
      "metadata": {
        "execution": {
          "iopub.status.busy": "2024-10-14T22:41:48.135252Z",
          "iopub.execute_input": "2024-10-14T22:41:48.135717Z",
          "iopub.status.idle": "2024-10-14T22:41:59.55069Z",
          "shell.execute_reply.started": "2024-10-14T22:41:48.135673Z",
          "shell.execute_reply": "2024-10-14T22:41:59.549479Z"
        },
        "trusted": true,
        "id": "AMNatZztZ7nz"
      },
      "execution_count": null,
      "outputs": []
    },
    {
      "cell_type": "code",
      "source": [],
      "metadata": {
        "execution": {
          "iopub.status.busy": "2024-10-14T23:45:47.659676Z",
          "iopub.execute_input": "2024-10-14T23:45:47.661287Z",
          "iopub.status.idle": "2024-10-14T23:45:48.114265Z",
          "shell.execute_reply.started": "2024-10-14T23:45:47.661204Z",
          "shell.execute_reply": "2024-10-14T23:45:48.111394Z"
        },
        "trusted": true,
        "id": "mZ-528lPZ7n0"
      },
      "execution_count": null,
      "outputs": []
    },
    {
      "cell_type": "code",
      "source": [],
      "metadata": {
        "id": "B0VpfJrmZ7n0"
      },
      "execution_count": null,
      "outputs": []
    }
  ]
}